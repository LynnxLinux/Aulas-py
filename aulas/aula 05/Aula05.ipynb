{
 "cells": [
  {
   "cell_type": "markdown",
   "metadata": {},
   "source": [
    "# Aula 05 - Introdução ao List Comprehension e Format"
   ]
  },
  {
   "cell_type": "markdown",
   "metadata": {},
   "source": [
    "> Nessa aula, iremos dar introdução ao list comprehension, uma forma mais simples de realizar conversões de valores entre duas ou mais listas. Atualmente é uma das formas mais rápidas de aplicar conversões , substituindo as declarações mais extensas do que o método convensional, lambda e o map.  "
   ]
  },
  {
   "cell_type": "markdown",
   "metadata": {},
   "source": [
    "## Exemplo 1 - Conversão de Celsius para Fahreheit"
   ]
  },
  {
   "cell_type": "code",
   "execution_count": 1,
   "metadata": {},
   "outputs": [
    {
     "name": "stdout",
     "output_type": "stream",
     "text": [
      "[50.0, 68.0, 75.2, 95.0, 122.0]\n"
     ]
    }
   ],
   "source": [
    "celsius = [10, 20, 24, 35, 50]\n",
    "fahreheit = [round(x*1.8+32,2) for x in celsius]\n",
    "print(fahreheit)"
   ]
  },
  {
   "cell_type": "markdown",
   "metadata": {},
   "source": [
    "## Exemplo 2 - Conversão de Kmh para Mph"
   ]
  },
  {
   "cell_type": "code",
   "execution_count": 2,
   "metadata": {},
   "outputs": [
    {
     "name": "stdout",
     "output_type": "stream",
     "text": [
      "[62.11, 15.53, 43.48, 49.69, 111.8]\n"
     ]
    }
   ],
   "source": [
    "kmh = [100, 25, 70, 80, 180]\n",
    "mph = [round(x/1.61,2) for x in kmh]\n",
    "print(mph)"
   ]
  },
  {
   "cell_type": "code",
   "execution_count": 7,
   "metadata": {},
   "outputs": [
    {
     "name": "stdout",
     "output_type": "stream",
     "text": [
      "Kmh    mph   \n",
      "============\n",
      "100    62.11 \n",
      "25     15.53 \n",
      "70     43.48 \n",
      "80     49.69 \n",
      "180    111.8 \n"
     ]
    }
   ],
   "source": [
    "print(\"{:<6} {:<6}\".format(\"Kmh\",\"mph\"))\n",
    "print(\"============\")\n",
    "x = 0\n",
    "while(x<len(kmh)):\n",
    "    print(\"{:<6} {:<6}\".format(kmh[x],mph[x]))\n",
    "    x +=1"
   ]
  },
  {
   "cell_type": "code",
   "execution_count": 8,
   "metadata": {},
   "outputs": [
    {
     "name": "stdout",
     "output_type": "stream",
     "text": [
      "Celsius Fahrenheit\n",
      "============\n",
      "10    50.0 \n",
      "20    68.0 \n",
      "24    75.2 \n",
      "35    95.0 \n",
      "50    122.0\n"
     ]
    }
   ],
   "source": [
    "print(\"{:<5} {:<5}\".format(\"Celsius\",\"Fahrenheit\"))\n",
    "print(\"============\")\n",
    "x = 0\n",
    "while(x<len(celsius)):\n",
    "    print(\"{:<5} {:<5}\".format(celsius[x],fahreheit[x]))\n",
    "    x +=1"
   ]
  },
  {
   "cell_type": "markdown",
   "metadata": {},
   "source": [
    "### Exercício 1"
   ]
  },
  {
   "cell_type": "markdown",
   "metadata": {},
   "source": [
    "> Crie uma lista com valores em metros. Crie uma tabela de conversão para polegadas, pés, jardas e milhas marítimas. Listando o número de linha e o cabeçalho da tabela."
   ]
  },
  {
   "cell_type": "code",
   "execution_count": 21,
   "metadata": {},
   "outputs": [
    {
     "name": "stdout",
     "output_type": "stream",
     "text": [
      "Metros               Polegadas            Pés                  Jardas               Milhas Marítimas    \n",
      "====================================================================================================\n",
      "356                  14015.72             1167.68              388.04               0.19                \n",
      "782                  30787.34             2564.96              852.38               0.42                \n",
      "91                   3582.67              298.48               99.19                0.05                \n",
      "467                  18385.79             1531.76              509.03               0.25                \n",
      "239                  9409.43              783.92               260.51               0.13                \n",
      "634                  24960.58             2079.52              691.06               0.34                \n",
      "18                   708.66               59.04                19.62                0.01                \n",
      "945                  37204.65             3099.6               1030.05              0.51                \n",
      "523                  20590.51             1715.44              570.07               0.28                \n",
      "788                  31023.56             2584.64              858.92               0.43                \n"
     ]
    }
   ],
   "source": [
    "metros = [356, 782, 91, 467, 239, 634, 18, 945, 523, 788]\n",
    "polegadas = [round(x*39.37,2) for x in metros]\n",
    "pes = [round(x*3.28,2) for x in metros]\n",
    "jardas = [round(x*1.09,2) for x in metros]\n",
    "milhasm = [round(x/1852,2) for x in metros]\n",
    "\n",
    "print(\"{:<20} {:<20} {:<20} {:<20} {:<20}\".format(\"Metros\", \"Polegadas\", \"Pés\", \"Jardas\",\"Milhas Marítimas\"))\n",
    "print(\"====================================================================================================\")\n",
    "x = 0\n",
    "while(x<len(metros)):\n",
    "    print(\"{:<20} {:<20} {:<20} {:<20} {:<20}\".format(metros[x],polegadas[x],pes[x],jardas[x],milhasm[x]))\n",
    "    x += 1"
   ]
  },
  {
   "cell_type": "markdown",
   "metadata": {},
   "source": [
    "### Exercício 2"
   ]
  },
  {
   "cell_type": "markdown",
   "metadata": {},
   "source": [
    "> Crie uma lista com 10 valores em Kelvin. Crie uma tabela de conversão para Celsius e Fahrenheit, listando o número da linha e o cabeçalho da tabela."
   ]
  },
  {
   "cell_type": "code",
   "execution_count": 35,
   "metadata": {},
   "outputs": [
    {
     "name": "stdout",
     "output_type": "stream",
     "text": [
      "Kelvin     Celsius    Fahrenheit\n",
      "================================\n",
      "100        629.15     1164.47   \n",
      "200        1055.15    1931.27   \n",
      "300        364.15     687.47    \n",
      "400        740.15     1364.27   \n",
      "500        512.15     953.87    \n",
      "600        907.15     1664.87   \n",
      "700        291.15     556.07    \n",
      "800        1218.15    2224.67   \n",
      "900        796.15     1465.07   \n",
      "1000       1061.15    1942.07   \n"
     ]
    }
   ],
   "source": [
    "kelvin = [100, 200, 300, 400, 500, 600, 700, 800, 900, 1000]\n",
    "\n",
    "celsius = [round(x+273.15,2) for x in metros]\n",
    "fahreheit = [round(x*1.8+32,2) for x in celsius]\n",
    "\n",
    "print(\"{:<10} {:<10} {:<10}\".format(\"Kelvin\", \"Celsius\",\"Fahrenheit\"))\n",
    "print(\"================================\")\n",
    "x = 0\n",
    "while(x<len(celsius)):\n",
    "    print(\"{:<10} {:<10} {:<10}\".format(kelvin[x],celsius[x],fahreheit[x]))\n",
    "    x +=1"
   ]
  }
 ],
 "metadata": {
  "kernelspec": {
   "display_name": "Python 3",
   "language": "python",
   "name": "python3"
  },
  "language_info": {
   "codemirror_mode": {
    "name": "ipython",
    "version": 3
   },
   "file_extension": ".py",
   "mimetype": "text/x-python",
   "name": "python",
   "nbconvert_exporter": "python",
   "pygments_lexer": "ipython3",
   "version": "3.12.2"
  }
 },
 "nbformat": 4,
 "nbformat_minor": 2
}
