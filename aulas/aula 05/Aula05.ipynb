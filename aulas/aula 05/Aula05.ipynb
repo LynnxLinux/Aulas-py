{
 "cells": [
  {
   "cell_type": "markdown",
   "metadata": {},
   "source": [
    "# Aula 05 - Introdução ao List Comprehension e Format"
   ]
  },
  {
   "cell_type": "markdown",
   "metadata": {},
   "source": [
    "> Nessa aula, iremos dar introdução ao list comprehension, uma forma mais simples de realizar conversões de valores entre duas ou mais listas. Atualmente é uma das formas mais rápidas de aplicar conversões , substituindo as declarações mais extensas do que o método convensional, lambda e o map.  "
   ]
  },
  {
   "cell_type": "markdown",
   "metadata": {},
   "source": [
    "## Exemplo 1 - Conversão de Celsius para Fahreheit"
   ]
  },
  {
   "cell_type": "code",
   "execution_count": 1,
   "metadata": {},
   "outputs": [
    {
     "name": "stdout",
     "output_type": "stream",
     "text": [
      "[50.0, 68.0, 75.2, 95.0, 122.0]\n"
     ]
    }
   ],
   "source": [
    "celsius = [10, 20, 24, 35, 50]\n",
    "fahreheit = [round(x*1.8+32,2) for x in celsius]\n",
    "print(fahreheit)"
   ]
  },
  {
   "cell_type": "markdown",
   "metadata": {},
   "source": [
    "## Exemplo 2 - Conversão de Kmh para Mph"
   ]
  },
  {
   "cell_type": "code",
   "execution_count": 2,
   "metadata": {},
   "outputs": [
    {
     "name": "stdout",
     "output_type": "stream",
     "text": [
      "[62.11, 15.53, 43.48, 49.69, 111.8]\n"
     ]
    }
   ],
   "source": [
    "kmh = [100, 25, 70, 80, 180]\n",
    "mph = [round(x/1.61,2) for x in kmh]\n",
    "print(mph)"
   ]
  },
  {
   "cell_type": "code",
   "execution_count": 7,
   "metadata": {},
   "outputs": [
    {
     "name": "stdout",
     "output_type": "stream",
     "text": [
      "Kmh    mph   \n",
      "============\n",
      "100    62.11 \n",
      "25     15.53 \n",
      "70     43.48 \n",
      "80     49.69 \n",
      "180    111.8 \n"
     ]
    }
   ],
   "source": [
    "print(\"{:<6} {:<6}\".format(\"Kmh\",\"mph\"))\n",
    "print(\"============\")\n",
    "x = 0\n",
    "while(x<len(kmh)):\n",
    "    print(\"{:<6} {:<6}\".format(kmh[x],mph[x]))\n",
    "    x +=1"
   ]
  },
  {
   "cell_type": "code",
   "execution_count": 8,
   "metadata": {},
   "outputs": [
    {
     "name": "stdout",
     "output_type": "stream",
     "text": [
      "Celsius Fahrenheit\n",
      "============\n",
      "10    50.0 \n",
      "20    68.0 \n",
      "24    75.2 \n",
      "35    95.0 \n",
      "50    122.0\n"
     ]
    }
   ],
   "source": [
    "print(\"{:<5} {:<5}\".format(\"Celsius\",\"Fahrenheit\"))\n",
    "print(\"============\")\n",
    "x = 0\n",
    "while(x<len(celsius)):\n",
    "    print(\"{:<5} {:<5}\".format(celsius[x],fahreheit[x]))\n",
    "    x +=1"
   ]
  },
  {
   "cell_type": "markdown",
   "metadata": {},
   "source": [
    "### Exercício 1"
   ]
  },
  {
   "cell_type": "markdown",
   "metadata": {},
   "source": [
    "> Crie uma lista com valores em metros. Crie uma tabela de conversão para polegadas, pés, jardas e milhas marítimas. Listando o número de linha e o cabeçalho da tabela."
   ]
  },
  {
   "cell_type": "code",
   "execution_count": 63,
   "metadata": {},
   "outputs": [
    {
     "name": "stdout",
     "output_type": "stream",
     "text": [
      "N°    Metros               Polegadas            Pés                  Jardas               Milhas Marítimas    \n",
      "==========================================================================================================\n",
      "1     1                    39.37                3.28                 1.09                 0.0                 \n",
      "2     2                    78.74                6.56                 2.18                 0.0                 \n",
      "3     3                    118.11               9.84                 3.27                 0.0                 \n",
      "4     4                    157.48               13.12                4.36                 0.0                 \n",
      "5     5                    196.85               16.4                 5.45                 0.0                 \n",
      "6     6                    236.22               19.68                6.54                 0.0                 \n",
      "7     7                    275.59               22.96                7.63                 0.0                 \n",
      "8     8                    314.96               26.24                8.72                 0.0                 \n",
      "9     9                    354.33               29.52                9.81                 0.0                 \n",
      "10    10                   393.7                32.8                 10.9                 0.01                \n"
     ]
    }
   ],
   "source": [
    "metros = [1, 2, 3, 4, 5, 6, 7, 8, 9, 10]\n",
    "metros.sort()\n",
    "polegadas = [round(x*39.37,2) for x in metros]\n",
    "pes = [round(x*3.28,2) for x in metros]\n",
    "jardas = [round(x*1.09,2) for x in metros]\n",
    "milhasm = [round(x/1852,2) for x in metros]\n",
    "\n",
    "print(\"{:<5} {:<20} {:<20} {:<20} {:<20} {:<20}\".format(\"N°\", \"Metros\", \"Polegadas\", \"Pés\", \"Jardas\",\"Milhas Marítimas\"))\n",
    "print(\"==========================================================================================================\")\n",
    "x = 0\n",
    "for v in range(0,len(metros),1):\n",
    "    print(\"{:<5} {:<20} {:<20} {:<20} {:<20} {:<20}\".format(v+1,metros[v],polegadas[v],pes[v],jardas[v],milhasm[v]))\n",
    "    x += 1"
   ]
  },
  {
   "cell_type": "markdown",
   "metadata": {},
   "source": [
    "### Exercício 2"
   ]
  },
  {
   "cell_type": "markdown",
   "metadata": {},
   "source": [
    "> Crie uma lista com 10 valores em Kelvin. Crie uma tabela de conversão para Celsius e Fahrenheit, listando o número da linha e o cabeçalho da tabela."
   ]
  },
  {
   "cell_type": "code",
   "execution_count": 62,
   "metadata": {},
   "outputs": [
    {
     "name": "stdout",
     "output_type": "stream",
     "text": [
      "N°    Kelvin     Celsius    Fahrenheit\n",
      "======================================\n",
      "1     100        274.15     525.47    \n",
      "2     200        275.15     527.27    \n",
      "3     300        276.15     529.07    \n",
      "4     400        277.15     530.87    \n",
      "5     500        278.15     532.67    \n",
      "6     600        279.15     534.47    \n",
      "7     700        280.15     536.27    \n",
      "8     800        281.15     538.07    \n",
      "9     900        282.15     539.87    \n",
      "10    1000       283.15     541.67    \n"
     ]
    }
   ],
   "source": [
    "kelvin = [100, 200, 300, 400, 500, 600, 700, 800, 900, 1000]\n",
    "\n",
    "celsius = [round(x+273.15,2) for x in metros]\n",
    "fahreheit = [round(x*1.8+32,2) for x in celsius]\n",
    "\n",
    "print(\"{:<5} {:<10} {:<10} {:<10}\".format(\"N°\", \"Kelvin\", \"Celsius\", \"Fahrenheit\"))\n",
    "print(\"======================================\")\n",
    "x = 0\n",
    "for v in range(0,len(kelvin),1):\n",
    "    print(\"{:<5} {:<10} {:<10} {:<10}\".format(v+1,kelvin[v],celsius[v],fahreheit[v]))\n",
    "    x += 1"
   ]
  }
 ],
 "metadata": {
  "kernelspec": {
   "display_name": "Python 3",
   "language": "python",
   "name": "python3"
  },
  "language_info": {
   "codemirror_mode": {
    "name": "ipython",
    "version": 3
   },
   "file_extension": ".py",
   "mimetype": "text/x-python",
   "name": "python",
   "nbconvert_exporter": "python",
   "pygments_lexer": "ipython3",
   "version": "3.12.2"
  }
 },
 "nbformat": 4,
 "nbformat_minor": 2
}
