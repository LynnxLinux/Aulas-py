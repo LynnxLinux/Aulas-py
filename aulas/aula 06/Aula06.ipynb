{
 "cells": [
  {
   "cell_type": "markdown",
   "metadata": {},
   "source": [
    "# Aula 06 - Introdução a Tuplas e Dicionários"
   ]
  },
  {
   "cell_type": "code",
   "execution_count": 1,
   "metadata": {},
   "outputs": [
    {
     "data": {
      "text/plain": [
       "5"
      ]
     },
     "execution_count": 1,
     "metadata": {},
     "output_type": "execute_result"
    }
   ],
   "source": [
    "lista = [2,5,9]\n",
    "lista[1]\n",
    "print(lista)"
   ]
  },
  {
   "cell_type": "markdown",
   "metadata": {},
   "source": [
    "## Introdução a Tuplas"
   ]
  },
  {
   "cell_type": "code",
   "execution_count": null,
   "metadata": {},
   "outputs": [],
   "source": [
    "tupla = (6,8,9)\n",
    "tupla[1]"
   ]
  },
  {
   "cell_type": "code",
   "execution_count": 2,
   "metadata": {},
   "outputs": [
    {
     "name": "stdout",
     "output_type": "stream",
     "text": [
      "[2, 5, 9, 7]\n"
     ]
    }
   ],
   "source": [
    "lista.append(7)\n",
    "print(lista)"
   ]
  },
  {
   "cell_type": "code",
   "execution_count": 3,
   "metadata": {},
   "outputs": [
    {
     "name": "stdout",
     "output_type": "stream",
     "text": [
      "(3, 9, 0)\n"
     ]
    }
   ],
   "source": [
    "tupla = (3,9,0)\n",
    "print(tupla)"
   ]
  },
  {
   "cell_type": "markdown",
   "metadata": {},
   "source": [
    "## Introdução a Dicionários"
   ]
  },
  {
   "cell_type": "code",
   "execution_count": 6,
   "metadata": {},
   "outputs": [],
   "source": [
    "dicionario = {\n",
    "    'curso':'Desenvolvimento de Sistemas',\n",
    "    'ano':2024,\n",
    "    'modulo':'Técnicas de Programação e Algoritmos',\n",
    "    'professor':'Gustavo'\n",
    "}"
   ]
  },
  {
   "cell_type": "code",
   "execution_count": 5,
   "metadata": {},
   "outputs": [
    {
     "name": "stdout",
     "output_type": "stream",
     "text": [
      "Desenvolvimento de sistemas\n",
      "2024\n",
      "Técnicas de programação e algoritmos\n",
      "Gustavo\n"
     ]
    }
   ],
   "source": [
    "print(dicionario['curso'])\n",
    "print(dicionario['ano'])\n",
    "print(dicionario['modulo'])\n",
    "print(dicionario['professor'])"
   ]
  },
  {
   "cell_type": "code",
   "execution_count": 7,
   "metadata": {},
   "outputs": [
    {
     "name": "stdout",
     "output_type": "stream",
     "text": [
      "9.5\n"
     ]
    }
   ],
   "source": [
    "dicionario['nota'] = 9.5\n",
    "print(dicionario['nota'])"
   ]
  },
  {
   "cell_type": "code",
   "execution_count": 8,
   "metadata": {},
   "outputs": [
    {
     "name": "stdout",
     "output_type": "stream",
     "text": [
      "Desenvolvimento de Sistemas\n",
      "2024\n",
      "Técnicas de Programação e Algoritmos\n",
      "Gustavo\n",
      "9.5\n"
     ]
    }
   ],
   "source": [
    "for x in dicionario.values():\n",
    "    print(x)"
   ]
  },
  {
   "cell_type": "code",
   "execution_count": 9,
   "metadata": {},
   "outputs": [
    {
     "name": "stdout",
     "output_type": "stream",
     "text": [
      "dict_keys(['curso', 'ano', 'modulo', 'professor', 'nota'])\n",
      "dict_values(['Desenvolvimento de Sistemas', 2024, 'Técnicas de Programação e Algoritmos', 'Gustavo', 9.5])\n"
     ]
    }
   ],
   "source": [
    "print(dicionario.keys())\n",
    "print(dicionario.values())"
   ]
  },
  {
   "cell_type": "code",
   "execution_count": 10,
   "metadata": {},
   "outputs": [
    {
     "name": "stdout",
     "output_type": "stream",
     "text": [
      "{}\n"
     ]
    }
   ],
   "source": [
    "dicionario.clear()\n",
    "print(dicionario)"
   ]
  },
  {
   "cell_type": "markdown",
   "metadata": {},
   "source": [
    "### Exercício 01\n",
    "> Crie 3 dicionários: Matrícula, aluno e Disciplina.\n",
    ">> * A matrícula terá código da matrícula, data_incrição e curso;\n",
    ">> * Aluno terá registro e nome;\n",
    ">> * A disciplina terá registro e professor;\n",
    "> Ao final adicione os três dicionários em uma tupla chamada escola."
   ]
  },
  {
   "cell_type": "code",
   "execution_count": 14,
   "metadata": {},
   "outputs": [
    {
     "name": "stdout",
     "output_type": "stream",
     "text": [
      "{'codigo': '010', 'data_inscrição': '02-01-2024', 'curso': 'Corinthians'}\n",
      "{'registro': '26746844267', 'nome': 'Rodrigo Garro'}\n",
      "{'registro': '1610', 'nome': 'Meio Campista', 'professor': 'Ramón Díaz'}\n"
     ]
    }
   ],
   "source": [
    "matricula = {\n",
    "    'codigo':'010',\n",
    "    'data_inscrição':'02-01-2024',\n",
    "    'curso':'Corinthians',\n",
    "}\n",
    "\n",
    "aluno = {\n",
    "    'registro':'26746844267',\n",
    "    'nome':'Rodrigo Garro',\n",
    "}\n",
    "\n",
    "disciplina = {\n",
    "    'registro':'1610',\n",
    "    'nome':'Meio Campista',\n",
    "    'professor':'Ramón Díaz',\n",
    "}\n",
    "\n",
    "escola = (matricula,aluno,disciplina)\n",
    "for x in escola:\n",
    "    print(x)\n",
    "\n",
    "\n"
   ]
  },
  {
   "cell_type": "markdown",
   "metadata": {},
   "source": [
    "### Exercício 2\n",
    "> Crie três dicionários para as seguintes tabelas: vendedor, produto e venda. O vendedor terá registro, nome e admissão; o produto terá o ID, nome, fabricante; A venda terá reg_vendedor, id_produto e valor. Após a criação dos dicionários, adicionem a uma tupla chamada casas_baiano."
   ]
  },
  {
   "cell_type": "code",
   "execution_count": 2,
   "metadata": {},
   "outputs": [
    {
     "name": "stdout",
     "output_type": "stream",
     "text": [
      "{'regitro': '022', 'nome': 'Evandro', 'admissao': '11-09-2021'}\n",
      "{'id': '611', 'nome': 'Playstation 6', 'fabricante': 'Polystation'}\n",
      "{'reg_vendedor': '2213', 'id_produto': '611', 'valor': 'R$ 9299,00'}\n"
     ]
    }
   ],
   "source": [
    "vendedor = {\n",
    "    'regitro':'022',\n",
    "    'nome':'Evandro',\n",
    "    'admissao':'11-09-2021',\n",
    "    \n",
    "}\n",
    "\n",
    "produto = {\n",
    "    'id':'611',\n",
    "    'nome':'Playstation 6',\n",
    "    'fabricante':'Polystation',\n",
    "}\n",
    "\n",
    "venda = {\n",
    "    'reg_vendedor':'2213',\n",
    "    'id_produto':'611',\n",
    "    'valor':'R$ 9299,00',\n",
    "}\n",
    "\n",
    "casas_baiano = (vendedor,produto,venda)\n",
    "for x in casas_baiano:\n",
    "    print(x)\n",
    "\n",
    "\n"
   ]
  }
 ],
 "metadata": {
  "kernelspec": {
   "display_name": "Python 3",
   "language": "python",
   "name": "python3"
  },
  "language_info": {
   "codemirror_mode": {
    "name": "ipython",
    "version": 3
   },
   "file_extension": ".py",
   "mimetype": "text/x-python",
   "name": "python",
   "nbconvert_exporter": "python",
   "pygments_lexer": "ipython3",
   "version": "3.12.2"
  }
 },
 "nbformat": 4,
 "nbformat_minor": 2
}
