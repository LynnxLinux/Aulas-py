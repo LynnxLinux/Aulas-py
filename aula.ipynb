{
 "cells": [
  {
   "cell_type": "markdown",
   "metadata": {},
   "source": [
    "### introducao a arvore binaria"
   ]
  },
  {
   "cell_type": "code",
   "execution_count": 37,
   "metadata": {},
   "outputs": [],
   "source": [
    "class node:\n",
    "    def __init__(self,valor):\n",
    "        self.esquerda = None\n",
    "        self.direita = None\n",
    "        self.valor = valor"
   ]
  },
  {
   "cell_type": "markdown",
   "metadata": {},
   "source": [
    "inserindo o metodo inserir"
   ]
  },
  {
   "cell_type": "code",
   "execution_count": 38,
   "metadata": {},
   "outputs": [],
   "source": [
    "def inserir(raiz,chave):\n",
    "    if raiz is None:\n",
    "        return No(chave)\n",
    "    else:\n",
    "        if chave < raiz.value:\n",
    "            raiz.esquerda = inserir(raiz.esquerda, chave)\n",
    "        else:\n",
    "            raiz.direita = inserir(raiz.direita, chave)\n",
    "            return raiz"
   ]
  },
  {
   "cell_type": "code",
   "execution_count": 39,
   "metadata": {},
   "outputs": [],
   "source": [
    "def ordenar(raiz):\n",
    "    if raiz:\n",
    "        ordenar(raiz.esquerda)\n",
    "        print(raiz.valor, end=\" \")\n",
    "        ordenar(raiz.direita)\n"
   ]
  },
  {
   "cell_type": "code",
   "execution_count": 40,
   "metadata": {},
   "outputs": [],
   "source": [
    "def __main__():\n",
    "    raiz = None\n",
    "    valores = [18,7,8,2,1,0,9]\n",
    "\n",
    "    for x in valores:\n",
    "        raiz = inserir(raiz,x)\n",
    "\n",
    "        print(\"Em ordem \" ,  end=\" \")\n",
    "        ordenar(raiz)\n",
    "        print()"
   ]
  },
  {
   "cell_type": "markdown",
   "metadata": {},
   "source": [
    "### inserindo valores aleatorios"
   ]
  },
  {
   "cell_type": "code",
   "execution_count": 41,
   "metadata": {},
   "outputs": [
    {
     "name": "stdout",
     "output_type": "stream",
     "text": [
      "6\n"
     ]
    }
   ],
   "source": [
    "import random\n",
    "aleatorio = random.randint(1,10)\n",
    "print(aleatorio)"
   ]
  },
  {
   "cell_type": "markdown",
   "metadata": {},
   "source": [
    "### Exercicio 1"
   ]
  },
  {
   "cell_type": "markdown",
   "metadata": {},
   "source": [
    "Crie um metodo que insira 10 valores aleatorios de 0 a 100. Após isso organize-os e mostre-os"
   ]
  },
  {
   "cell_type": "code",
   "execution_count": 57,
   "metadata": {},
   "outputs": [
    {
     "name": "stdout",
     "output_type": "stream",
     "text": [
      "Em ordem: 7 16 40 51 58 65 68 94 95 97 "
     ]
    }
   ],
   "source": [
    "import random as y\n",
    "\n",
    "if __name__ == \"__main__\":\n",
    "    raiz = None\n",
    "    lista = []\n",
    "\n",
    "    for _ in range(10):\n",
    "        lista.append(y.randint(0, 100))\n",
    "\n",
    "    for x in lista:\n",
    "        raiz = inserir(raiz, x)\n",
    "\n",
    "    print(\"Em ordem:\", end=\" \")\n",
    "    ordenar(raiz)\n",
    "\n"
   ]
  },
  {
   "cell_type": "markdown",
   "metadata": {},
   "source": [
    "### Exercicio 2 - Crie um mentodo que insira 5 valores aleatorios de 0 a 10. apos isso organize-os de forma decrescente e mostreos"
   ]
  },
  {
   "cell_type": "code",
   "execution_count": 63,
   "metadata": {},
   "outputs": [
    {
     "name": "stdout",
     "output_type": "stream",
     "text": [
      "Em ordem decrescente: 9 8 7 5 0 "
     ]
    }
   ],
   "source": [
    "import random as y\n",
    "\n",
    "class No:\n",
    "    def __init__(self, valor):\n",
    "        self.valor = valor\n",
    "        self.esquerda = None\n",
    "        self.direita = None\n",
    "\n",
    "def inserir(raiz, valor):\n",
    "    if raiz is None:\n",
    "        return No(valor)\n",
    "    elif valor > raiz.valor:\n",
    "        raiz.direita = inserir(raiz.direita, valor)\n",
    "    else:\n",
    "        raiz.esquerda = inserir(raiz.esquerda, valor)\n",
    "    return raiz\n",
    "\n",
    "def ordenar(raiz):\n",
    "    if raiz is not None:\n",
    "        ordenar(raiz.direita)  # Visita a subárvore da direita (valores maiores)\n",
    "        print(raiz.valor, end=\" \")  # Exibe o valor do nó\n",
    "        ordenar(raiz.esquerda)  # Visita a subárvore da esquerda (valores menores)\n",
    "\n",
    "if __name__ == \"__main__\":\n",
    "    raiz = None\n",
    "    lista = []\n",
    "\n",
    "    for _ in range(5):\n",
    "        lista.append(y.randint(0, 10))\n",
    "\n",
    "    for x in lista:\n",
    "        raiz = inserir(raiz, x)\n",
    "\n",
    "    print(\"Em ordem decrescente:\", end=\" \")\n",
    "    ordenar(raiz)\n"
   ]
  }
 ],
 "metadata": {
  "kernelspec": {
   "display_name": "Python 3",
   "language": "python",
   "name": "python3"
  },
  "language_info": {
   "codemirror_mode": {
    "name": "ipython",
    "version": 3
   },
   "file_extension": ".py",
   "mimetype": "text/x-python",
   "name": "python",
   "nbconvert_exporter": "python",
   "pygments_lexer": "ipython3",
   "version": "3.12.4"
  }
 },
 "nbformat": 4,
 "nbformat_minor": 2
}
